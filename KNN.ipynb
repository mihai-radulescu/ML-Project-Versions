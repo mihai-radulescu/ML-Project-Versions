{
 "cells": [
  {
   "cell_type": "code",
   "execution_count": 1,
   "id": "b6d76def",
   "metadata": {},
   "outputs": [],
   "source": [
    "#KNN"
   ]
  },
  {
   "cell_type": "code",
   "execution_count": 31,
   "id": "51b96306",
   "metadata": {},
   "outputs": [],
   "source": [
    "#Importuri\n",
    "from sklearn import preprocessing\n",
    "from sklearn.neighbors import KNeighborsClassifier\n",
    "from sklearn.metrics import confusion_matrix\n",
    "from sklearn.feature_extraction.text import CountVectorizer\n",
    "import numpy as np\n",
    "import pandas as pd\n",
    "import csv"
   ]
  },
  {
   "cell_type": "code",
   "execution_count": 3,
   "id": "fadbe203",
   "metadata": {},
   "outputs": [],
   "source": [
    "#Functie de normalizare realizata in cadrul laboratorului\n",
    "\n",
    "def normalize_data(train_data, test_data, type=None):\n",
    "    scaler = None\n",
    "    if type == 'standard':\n",
    "        scaler = preprocessing.StandardScaler()\n",
    "\n",
    "    elif type == 'l1':\n",
    "        scaler = preprocessing.Normalizer(norm='l1')\n",
    "\n",
    "    elif type == 'l2':\n",
    "        scaler = preprocessing.Normalizer(norm='l2')\n",
    "\n",
    "    if scaler is not None:\n",
    "        scaler.fit(train_data)\n",
    "        scaled_train_data = scaler.transform(train_data)\n",
    "        scaled_test_data = scaler.transform(test_data) \n",
    "        return (scaled_train_data, scaled_test_data)\n",
    "    else:\n",
    "        print(\"No scaling was performed. Raw data is returned.\")\n",
    "        return (train_data, test_data)"
   ]
  },
  {
   "cell_type": "code",
   "execution_count": 4,
   "id": "13e3d293",
   "metadata": {},
   "outputs": [],
   "source": [
    "#Functie care calculeaza acuratetea unui model pe baza datelor de validare\n",
    "\n",
    "def accuracy_score(y_true, y_pred):\n",
    "    return (y_true == y_pred).mean()"
   ]
  },
  {
   "cell_type": "code",
   "execution_count": 5,
   "id": "1455cf5c",
   "metadata": {},
   "outputs": [],
   "source": [
    "#Functie care extrage proprozitia corespunzatoare fiecarui id din setul de date\n",
    "\n",
    "def get_sentence(data):\n",
    "    new_data = []\n",
    "    \n",
    "    for item in data:\n",
    "        new_data.append(item[1])\n",
    "    \n",
    "    #Vectorul cu toate propozitiile este convertit intr-un numpy array\n",
    "    return np.array(new_data)"
   ]
  },
  {
   "cell_type": "code",
   "execution_count": 6,
   "id": "87f14283",
   "metadata": {},
   "outputs": [],
   "source": [
    "#Functie care converteste datele vectorizate in DataFrame-uri si adauga ultimele caracteristicii\n",
    "#Parametrii: row: vectorul cu toate propozitiile\n",
    "#vect: Matricea rezultata de vectorizarea datelor\n",
    "#names: Lista caracteristicilor extrase prin vectorizare\n",
    "def final_features(row, vect, names):\n",
    "\n",
    "    #Transformarea datelor vectorizatre intr-o structura DataFrame din libraira pandas\n",
    "    df = pd.DataFrame(data=vect, columns = names)\n",
    "    \n",
    "    #Transformarea propozitiilor intr-o structura DataFrame din libraira pandas\n",
    "    txt = pd.DataFrame(row, columns = ['data'])\n",
    "    \n",
    "    #Lista cu vocalele limbii engleze\n",
    "    vowels=['a','e','i','o','u']\n",
    "    \n",
    "    #Lista cu semnele de punctuatie uzuale\n",
    "    punc = [\"!\", \",\" ,\"\\'\" ,\";\" ,\"\\\"\", \".\", \"-\" ,\"?\"]\n",
    "    \n",
    "    #Functie care calculeaza densitate vocalelelor in propozitii\n",
    "    def vowels_density(txt):\n",
    "        \n",
    "        #Calculeaza numarul total de caractere diferite de \" \"\n",
    "        chars = len(txt.replace(\" \", \"\"))\n",
    "        \n",
    "        #Calculeaza numarul de vocale dintr-o propozitie\n",
    "        nr_vowels = sum([1 for c in txt if c in vowels])\n",
    "        \n",
    "        return(nr_vowels / chars)\n",
    "    \n",
    "    #Functie care calculeaza densitate semnelor de punctuatie in propozitii\n",
    "    def punc_density(txt):\n",
    "        \n",
    "        #Calculeaza numarul total de caractere diferite de \" \"\n",
    "        chars = len(txt.replace(\" \", \"\"))\n",
    "        \n",
    "        #Calculeaza numarul semnelor de punctuatie dintr-o propozitie\n",
    "        nr_punc = sum([1 for c in txt if c in punc])\n",
    "        \n",
    "        return(nr_punc / chars)\n",
    "\n",
    "    def num_unique_words(txt):\n",
    "        \n",
    "        #Se imparte propozitia in cuvinte\n",
    "        words = txt.split()\n",
    "        \n",
    "        #Se aleg cuvintele unice\n",
    "        unique = set(w for w in words)\n",
    "        \n",
    "        #Retruneaza lungimea multimii de cuvinte\n",
    "        return len(unique)\n",
    "    \n",
    "    #Se introduc noile caracteristici in DataFrame\n",
    "    df['punc_density'] = txt['data'].apply(lambda txt: punc_density(txt))\n",
    "    df['vowels_density'] = txt['data'].apply(lambda txt: vowels_density(txt))\n",
    "    df['num_unique_words'] = txt['data'].apply(lambda txt: num_unique_words(txt))\n",
    "    \n",
    "    return df"
   ]
  },
  {
   "cell_type": "code",
   "execution_count": 7,
   "id": "f14f076b",
   "metadata": {},
   "outputs": [],
   "source": [
    "#Functie care extrage etichetele corespunzatoare fiecarui id din setul de date\n",
    "\n",
    "def get_labels(data):\n",
    "    new_data = []\n",
    "    \n",
    "    for item in data:\n",
    "        new_data.append(item[1])\n",
    "        \n",
    "    #Vectorul cu toate etichetele este convertit intr-un numpy array   \n",
    "    return np.array(new_data)"
   ]
  },
  {
   "cell_type": "code",
   "execution_count": 16,
   "id": "d6d74c15",
   "metadata": {},
   "outputs": [],
   "source": [
    "#Functie care determina cel mai bun hyper parametru pentru predictie\n",
    "\n",
    "def best_param(results):\n",
    "    best = (0, 0)\n",
    "    \n",
    "    for data in results:\n",
    "        if data[1] > best[1]:\n",
    "            best = data\n",
    "            \n",
    "    return best"
   ]
  },
  {
   "cell_type": "code",
   "execution_count": 29,
   "id": "3ea609c7",
   "metadata": {},
   "outputs": [],
   "source": [
    "#Functie care scrie un fisier . csv cu predictile obtinute\n",
    "#Parametrii: test_data: Datele intiale intr-un numpay array\n",
    "#predicted: lista predictilor\n",
    "\n",
    "def write_prediction(test_data, predicted):\n",
    "    \n",
    "    #Headerul tabelului\n",
    "    header = ['id', 'label']\n",
    "    \n",
    "    #Vector cu datele care vor fii scrise\n",
    "    data = []\n",
    "    \n",
    "    #Parcurgerea datelor initiale\n",
    "    for i in range(0, len(test_data)):\n",
    "        #Extragerea id-ului pentru fiecare propozitie\n",
    "        id = int(test_data[i][0])\n",
    "        #Extragerea etichetei prezise\n",
    "        label = int(predicted[i])\n",
    "        #Adaugarea datelor in vector\n",
    "        data.append([id, label])\n",
    "\n",
    "    #Generarea fiserului .csv\n",
    "    with open('submisie.csv', 'w', encoding='UTF8') as f:\n",
    "        writer = csv.writer(f)\n",
    "        #Scriere header-ului\n",
    "        writer.writerow(header)\n",
    "        \n",
    "        #Scrierea datelor in fisier\n",
    "        for item in data:\n",
    "            writer.writerow(item)"
   ]
  },
  {
   "cell_type": "code",
   "execution_count": 26,
   "id": "a2dacec8",
   "metadata": {},
   "outputs": [],
   "source": [
    "#Citirea si prelucarea datelor de antrenare si validare\n",
    "\n",
    "#Citirea datelor de antrenare\n",
    "training_data = np.genfromtxt('data_aliens/train_samples.txt', dtype='str', comments='\\\\\\\\\\\\\\\\\\\\\\\\\\\\\\\\', delimiter='\\t', invalid_raise = False)\n",
    "training_labels = np.loadtxt('data_aliens/train_labels.txt', dtype='int')\n",
    "\n",
    "#Citirea datelor de validare\n",
    "validation_data = np.genfromtxt('data_aliens/validation_samples.txt', dtype='str', comments='\\\\\\\\\\\\\\\\\\\\\\\\\\\\\\\\', delimiter='\\t', invalid_raise = False)\n",
    "validation_labels = np.loadtxt('data_aliens/validation_labels.txt', dtype='int')\n",
    "\n",
    "#Citirea datelor de test\n",
    "test_data_init = np.genfromtxt('data_aliens/test_samples.txt', dtype='str', comments='\\\\\\\\\\\\\\\\\\\\\\\\\\\\\\\\', delimiter='\\t', invalid_raise = False)\n",
    "\n",
    "#Prelucrarea datelor de antrenare\n",
    "#Extragerea propozitiilor\n",
    "x_train = get_sentence(training_data)\n",
    "\n",
    "#Extragerea etichetelor\n",
    "y_train = get_labels(training_labels)\n",
    "\n",
    "#Prelucrarea datelor de validare\n",
    "#Extragerea propozitiilor\n",
    "x_valid = get_sentence(validation_data)\n",
    "\n",
    "#Extragerea etichetelor\n",
    "y_valid = get_labels(validation_labels)\n",
    "\n",
    "#Prelucrarea datelor de test\n",
    "#Extragerea propozitiilor\n",
    "x_test = get_sentence(test_data)"
   ]
  },
  {
   "cell_type": "code",
   "execution_count": 9,
   "id": "e075c0ac",
   "metadata": {},
   "outputs": [],
   "source": [
    "#Vectorizarea datelor\n",
    "\n",
    "#Initializarea CountVectorizer-ului cu numar maxim de carcteristici = 3000\n",
    "count_vect = CountVectorizer(lowercase = False, max_features=3000, strip_accents=None, min_df=1, stop_words=None)\n",
    "\n",
    "#Generarea vocabularului si extragerea carcteristicilor din datele de antrenare\n",
    "X_train_counts = count_vect.fit_transform(x_train)\n",
    "\n",
    "#Extragerea denumirilor caracteristicilor\n",
    "names = count_vect.get_feature_names_out()\n",
    "\n",
    "#Extragerea carcteristicilor din datele de validare\n",
    "X_valid_counts = count_vect.transform(x_valid)\n",
    "\n",
    "#Transformarea datelor vectorizatre in numpay array\n",
    "train_data = X_train_counts.toarray()\n",
    "valid_data = X_valid_counts.toarray()"
   ]
  },
  {
   "cell_type": "code",
   "execution_count": 10,
   "id": "19693b2a",
   "metadata": {},
   "outputs": [],
   "source": [
    "#Transformarea in DataFrame\n",
    "\n",
    "#Data frame cu toate caracteristicile pentru datele de antrenare\n",
    "train_df = final_features(x_train, train_data, names)\n",
    "\n",
    "#Data frame cu toate caracteristicile pentru datele de validare\n",
    "valid_df = final_features(x_valid, valid_data, names)"
   ]
  },
  {
   "cell_type": "code",
   "execution_count": 11,
   "id": "7dfdca3e",
   "metadata": {},
   "outputs": [
    {
     "name": "stdout",
     "output_type": "stream",
     "text": [
      "No scaling was performed. Raw data is returned.\n"
     ]
    }
   ],
   "source": [
    "#Normalizarea datelor (daca este cazul)\n",
    "\n",
    "scale_train, scale_validation = normalize_data(train_df, valid_df)"
   ]
  },
  {
   "cell_type": "code",
   "execution_count": 34,
   "id": "ea8e89ed",
   "metadata": {},
   "outputs": [
    {
     "name": "stdout",
     "output_type": "stream",
     "text": [
      "[[1122  447  431]\n",
      " [ 552  683  265]\n",
      " [ 580  345  575]]\n",
      "[[1360  341  299]\n",
      " [ 780  550  170]\n",
      " [ 788  247  465]]\n",
      "[[1416  373  211]\n",
      " [ 816  558  126]\n",
      " [ 835  300  365]]\n",
      "[[1384  356  260]\n",
      " [ 820  539  141]\n",
      " [ 813  282  405]]\n",
      "[[1442  315  243]\n",
      " [ 867  492  141]\n",
      " [ 885  238  377]]\n",
      "[[1421  336  243]\n",
      " [ 863  498  139]\n",
      " [ 877  252  371]]\n",
      "[[1599  260  141]\n",
      " [1051  361   88]\n",
      " [1003  212  285]]\n",
      "[[1625  239  136]\n",
      " [1096  328   76]\n",
      " [1078  181  241]]\n",
      "[(1, 0.476), (3, 0.475), (5, 0.4678), (7, 0.4656), (9, 0.4622), (10, 0.458), (50, 0.449), (100, 0.4388)]\n"
     ]
    }
   ],
   "source": [
    "#Antrenarea modelului cu diferiti hyper parametrii\n",
    "\n",
    "#Parametrii KNN\n",
    "param = [1, 3, 5, 7, 9, 10, 50, 100]\n",
    "\n",
    "results = []\n",
    "\n",
    "for k in param:\n",
    "    knn = KNeighborsClassifier(n_neighbors = k)\n",
    "    \n",
    "    model = knn.fit(scale_train, y_train)\n",
    "    \n",
    "    predicted = model.predict(scale_validation)\n",
    "    \n",
    "    print(confusion_matrix(y_valid, predicted, labels=[1, 2, 3]))\n",
    "    \n",
    "    results.append((k, accuracy_score(predicted, y_valid)))\n",
    "    \n",
    "print(results)\n",
    "\n",
    "best = best_param(results)"
   ]
  },
  {
   "cell_type": "code",
   "execution_count": 18,
   "id": "62ebe50c",
   "metadata": {},
   "outputs": [
    {
     "name": "stdout",
     "output_type": "stream",
     "text": [
      "(1, 0.476)\n"
     ]
    }
   ],
   "source": [
    "print(best)"
   ]
  },
  {
   "cell_type": "code",
   "execution_count": 21,
   "id": "d0ed35a1",
   "metadata": {},
   "outputs": [
    {
     "name": "stdout",
     "output_type": "stream",
     "text": [
      "No scaling was performed. Raw data is returned.\n"
     ]
    }
   ],
   "source": [
    "#Extragerea caracteristicilor din datele de testare\n",
    "X_test_counts = count_vect.transform(x_test)\n",
    "\n",
    "#Transformarea datelor vectorizatre in numpay array\n",
    "test_data = X_test_counts.toarray()\n",
    "\n",
    "#Data frame cu toate caracteristicile pentru datele de testare\n",
    "test_df = final_features(x_test, test_data, names)\n",
    "\n",
    "#Normalizarea datelor (daca este cazul)\n",
    "scale_test, scale_test = normalize_data(test_df, test_df)"
   ]
  },
  {
   "cell_type": "code",
   "execution_count": 20,
   "id": "b92f828a",
   "metadata": {},
   "outputs": [
    {
     "name": "stdout",
     "output_type": "stream",
     "text": [
      "0.476\n"
     ]
    }
   ],
   "source": [
    "#Reantrenarea modelului cu parametrii cei mai buni\n",
    "knn = KNeighborsClassifier(n_neighbors = best[0])\n",
    "    \n",
    "model = knn.fit(scale_train, y_train)\n",
    "\n",
    "predicted = model.predict(scale_validation)\n",
    "\n",
    "print(accuracy_score(predicted, y_valid))\n",
    "\n",
    "#Matricea de confuzie"
   ]
  },
  {
   "cell_type": "code",
   "execution_count": 22,
   "id": "fdae87b9",
   "metadata": {},
   "outputs": [],
   "source": [
    "#Generarea predictilor pentru datele de test\n",
    "\n",
    "predicted = model.predict(scale_test)"
   ]
  },
  {
   "cell_type": "code",
   "execution_count": 27,
   "id": "e878f37d",
   "metadata": {},
   "outputs": [
    {
     "name": "stdout",
     "output_type": "stream",
     "text": [
      "(5000,)\n"
     ]
    }
   ],
   "source": [
    "#Scrierea fisierului .csv cu predictile obtinute\n",
    "\n",
    "write_prediction(test_data_init, predicted)\n",
    "print(predicted.shape)"
   ]
  }
 ],
 "metadata": {
  "kernelspec": {
   "display_name": "Python 3 (ipykernel)",
   "language": "python",
   "name": "python3"
  },
  "language_info": {
   "codemirror_mode": {
    "name": "ipython",
    "version": 3
   },
   "file_extension": ".py",
   "mimetype": "text/x-python",
   "name": "python",
   "nbconvert_exporter": "python",
   "pygments_lexer": "ipython3",
   "version": "3.8.10"
  }
 },
 "nbformat": 4,
 "nbformat_minor": 5
}
