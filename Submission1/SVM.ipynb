{
 "cells": [
  {
   "cell_type": "code",
   "execution_count": 1,
   "id": "4b17ca9c",
   "metadata": {},
   "outputs": [],
   "source": [
    "# SVM  best 1000 cu CountVectorizer, fara normalizare"
   ]
  },
  {
   "cell_type": "code",
   "execution_count": 2,
   "id": "79630c56",
   "metadata": {},
   "outputs": [],
   "source": [
    "from sklearn import preprocessing\n",
    "from sklearn import svm\n",
    "from sklearn.metrics import f1_score\n",
    "import numpy as np"
   ]
  },
  {
   "cell_type": "code",
   "execution_count": 3,
   "id": "3150ae8e",
   "metadata": {},
   "outputs": [],
   "source": [
    "def normalize_data(train_data, test_data, type=None):\n",
    "    scaler = None\n",
    "    if type == 'standard':\n",
    "        scaler = preprocessing.StandardScaler()\n",
    "\n",
    "\n",
    "    elif type == 'l1':\n",
    "        scaler = preprocessing.Normalizer(norm='l1')\n",
    "\n",
    "    elif type == 'l2':\n",
    "        scaler = preprocessing.Normalizer(norm='l2')\n",
    "\n",
    "    if scaler is not None:\n",
    "        scaler.fit(train_data)\n",
    "        scaled_train_data = scaler.transform(train_data)\n",
    "        scaled_test_data = scaler.transform(test_data) \n",
    "        return (scaled_train_data, scaled_test_data)\n",
    "    else:\n",
    "        print(\"No scaling was performed. Raw data is returned.\")\n",
    "        return (train_data, test_data)"
   ]
  },
  {
   "cell_type": "code",
   "execution_count": 4,
   "id": "ead30748",
   "metadata": {},
   "outputs": [],
   "source": [
    "def accuracy_score(y_true, y_pred):\n",
    "    return (y_true == y_pred).mean()\n",
    "#train_labels = train_labels.astype(int)"
   ]
  },
  {
   "cell_type": "code",
   "execution_count": 5,
   "id": "de58cbe2",
   "metadata": {},
   "outputs": [],
   "source": [
    "def get_sentence(data):\n",
    "    new_data = []\n",
    "    \n",
    "    for item in data:\n",
    "        new_data.append(item[1])\n",
    "        \n",
    "    return np.array(new_data)"
   ]
  },
  {
   "cell_type": "code",
   "execution_count": 6,
   "id": "476f8215",
   "metadata": {},
   "outputs": [],
   "source": [
    "def get_labels(data):\n",
    "    new_data = []\n",
    "    \n",
    "    for item in data:\n",
    "        new_data.append(item[1])\n",
    "    return np.array(new_data)"
   ]
  },
  {
   "cell_type": "code",
   "execution_count": 7,
   "id": "6cd6b4bd",
   "metadata": {
    "scrolled": true
   },
   "outputs": [
    {
     "name": "stdout",
     "output_type": "stream",
     "text": [
      "(5000, 2)\n"
     ]
    }
   ],
   "source": [
    "# load data\n",
    "training_data = np.genfromtxt('data_aliens/train_samples.txt', dtype='str', comments='\\\\\\\\\\\\\\\\\\\\\\\\\\\\\\\\', delimiter='\\t', invalid_raise = False)\n",
    "training_labels = np.loadtxt('data_aliens/train_labels.txt', dtype='int')\n",
    "\n",
    "validation_data = np.genfromtxt('data_aliens/validation_samples.txt', dtype='str', comments='\\\\\\\\\\\\\\\\\\\\\\\\\\\\\\\\', delimiter='\\t', invalid_raise = False)\n",
    "validation_labels = np.loadtxt('data_aliens/validation_labels.txt', dtype='int')\n",
    "\n",
    "x_train = get_sentence(training_data)\n",
    "y_train = get_labels(training_labels)\n",
    "\n",
    "x_valid = get_sentence(validation_data)\n",
    "y_valid = get_labels(validation_labels)\n",
    "\n",
    "print(validation_data.shape)\n",
    "\n",
    "# print(training_data)\n",
    "# print(get_labels(training_labels))"
   ]
  },
  {
   "cell_type": "code",
   "execution_count": 13,
   "id": "7452b00e",
   "metadata": {},
   "outputs": [
    {
     "name": "stdout",
     "output_type": "stream",
     "text": [
      "(10000, 5000)\n",
      "[[0 0 0 ... 0 0 0]\n",
      " [0 0 0 ... 0 0 0]\n",
      " [1 0 0 ... 0 0 0]\n",
      " ...\n",
      " [0 0 0 ... 0 0 0]\n",
      " [0 0 0 ... 0 0 0]\n",
      " [0 0 0 ... 0 0 0]]\n"
     ]
    }
   ],
   "source": [
    "from sklearn.feature_extraction.text import CountVectorizer\n",
    "count_vect = CountVectorizer(lowercase = False, max_features=5000, strip_accents=None, min_df=1, stop_words=None)\n",
    "X_train_counts = count_vect.fit_transform(x_train)\n",
    "X_test_counts = count_vect.fit_transform(x_valid)\n",
    "\n",
    "print(X_train_counts.shape)\n",
    "\n",
    "print(X_train_counts.toarray())\n",
    "\n",
    "train_data = X_train_counts.toarray()\n",
    "test_data = X_test_counts.toarray()\n",
    "\n",
    "#print(X_test_counts.shape)\n",
    "#count_vect.get_feature_names_out()\n"
   ]
  },
  {
   "cell_type": "code",
   "execution_count": 14,
   "id": "613ba39d",
   "metadata": {},
   "outputs": [],
   "source": [
    "# Normalizare a datelor\n",
    "\n",
    "scale_train, scale_validation = normalize_data(train_data, test_data, \"l2\")"
   ]
  },
  {
   "cell_type": "code",
   "execution_count": 18,
   "id": "c42120f2",
   "metadata": {
    "scrolled": true
   },
   "outputs": [
    {
     "name": "stdout",
     "output_type": "stream",
     "text": [
      "0.376\n"
     ]
    }
   ],
   "source": [
    "svm_classifier = svm.SVC(C=5, kernel='linear')\n",
    "\n",
    "svm_classifier.fit(scale_train, y_train)\n",
    "predicted = svm_classifier.predict(scale_validation)\n",
    "\n",
    "print(accuracy_score(predicted, y_valid))"
   ]
  },
  {
   "cell_type": "code",
   "execution_count": 16,
   "id": "61deb027",
   "metadata": {},
   "outputs": [
    {
     "name": "stdout",
     "output_type": "stream",
     "text": [
      "[2 1 1 ... 1 3 2]\n",
      "(5000,)\n",
      "(5000,)\n"
     ]
    }
   ],
   "source": [
    "print(predicted)\n",
    "print(predicted.shape)\n",
    "print(x_valid.shape)"
   ]
  },
  {
   "cell_type": "code",
   "execution_count": 17,
   "id": "d09e2dfe",
   "metadata": {},
   "outputs": [],
   "source": [
    "import csv\n",
    "\n",
    "def write_prediction(test_data, predicted):\n",
    "    header = ['id', 'label']\n",
    "    \n",
    "    data = []\n",
    "    \n",
    "    for i in range(0, len(test_data)):\n",
    "        id = int(test_data[i][0])\n",
    "        label = int(predicted[i])\n",
    "        \n",
    "        data.append([id, label])\n",
    "        \n",
    "    with open('submission', 'w', encoding='UTF8') as f:\n",
    "        writer = csv.writer(f)\n",
    "        writer.writerow(header)\n",
    "        \n",
    "        for item in data:\n",
    "            writer.writerow(item)"
   ]
  },
  {
   "cell_type": "code",
   "execution_count": 20,
   "id": "16677a22",
   "metadata": {},
   "outputs": [],
   "source": [
    "# Citire date test\n",
    "\n",
    "test_data_init = np.genfromtxt('data_aliens/test_samples.txt', dtype='str', comments='\\\\\\\\\\\\\\\\\\\\\\\\\\\\\\\\', delimiter='\\t', invalid_raise = False)\n",
    "\n",
    "x_test = get_sentence(test_data_init)\n",
    "\n",
    "X_test_counts = count_vect.fit_transform(x_test)\n",
    "\n",
    "test_data = X_test_counts.toarray()\n",
    "\n",
    "scale_test, scale_test = normalize_data(test_data, test_data, \"l2\")"
   ]
  },
  {
   "cell_type": "code",
   "execution_count": 21,
   "id": "381741fc",
   "metadata": {},
   "outputs": [],
   "source": [
    "predicted = svm_classifier.predict(scale_test)"
   ]
  },
  {
   "cell_type": "code",
   "execution_count": 22,
   "id": "f8b94ef1",
   "metadata": {},
   "outputs": [],
   "source": [
    "write_prediction(test_data_init, predicted)"
   ]
  },
  {
   "cell_type": "code",
   "execution_count": 23,
   "id": "a5559558",
   "metadata": {},
   "outputs": [
    {
     "name": "stdout",
     "output_type": "stream",
     "text": [
      "(5000, 2)\n",
      "(5000,)\n"
     ]
    }
   ],
   "source": [
    "print(test_data_init.shape)\n",
    "print(predicted.shape)"
   ]
  }
 ],
 "metadata": {
  "kernelspec": {
   "display_name": "Python 3 (ipykernel)",
   "language": "python",
   "name": "python3"
  },
  "language_info": {
   "codemirror_mode": {
    "name": "ipython",
    "version": 3
   },
   "file_extension": ".py",
   "mimetype": "text/x-python",
   "name": "python",
   "nbconvert_exporter": "python",
   "pygments_lexer": "ipython3",
   "version": "3.8.10"
  }
 },
 "nbformat": 4,
 "nbformat_minor": 5
}
