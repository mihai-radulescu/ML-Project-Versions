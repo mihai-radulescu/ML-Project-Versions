{
 "cells": [
  {
   "cell_type": "code",
   "execution_count": null,
   "id": "983a80a8",
   "metadata": {},
   "outputs": [],
   "source": [
    "#SVM"
   ]
  },
  {
   "cell_type": "code",
   "execution_count": 1,
   "id": "2b8a39a6",
   "metadata": {},
   "outputs": [],
   "source": [
    "#Importuri\n",
    "from sklearn import preprocessing\n",
    "from sklearn import svm\n",
    "from sklearn.metrics import confusion_matrix\n",
    "from sklearn.feature_extraction.text import CountVectorizer\n",
    "import numpy as np\n",
    "import pandas as pd\n",
    "import csv"
   ]
  },
  {
   "cell_type": "code",
   "execution_count": 2,
   "id": "4288afec",
   "metadata": {},
   "outputs": [],
   "source": [
    "#Functie de normalizare realizata in cadrul laboratorului\n",
    "\n",
    "def normalize_data(train_data, test_data, type=None):\n",
    "    scaler = None\n",
    "    if type == 'standard':\n",
    "        scaler = preprocessing.StandardScaler()\n",
    "\n",
    "    elif type == 'l1':\n",
    "        scaler = preprocessing.Normalizer(norm='l1')\n",
    "\n",
    "    elif type == 'l2':\n",
    "        scaler = preprocessing.Normalizer(norm='l2')\n",
    "\n",
    "    if scaler is not None:\n",
    "        scaler.fit(train_data)\n",
    "        scaled_train_data = scaler.transform(train_data)\n",
    "        scaled_test_data = scaler.transform(test_data) \n",
    "        return (scaled_train_data, scaled_test_data)\n",
    "    else:\n",
    "        print(\"No scaling was performed. Raw data is returned.\")\n",
    "        return (train_data, test_data)"
   ]
  },
  {
   "cell_type": "code",
   "execution_count": 3,
   "id": "24c51289",
   "metadata": {},
   "outputs": [],
   "source": [
    "#Functie care calculeaza acuratetea unui model pe baza datelor de validare\n",
    "\n",
    "def accuracy_score(y_true, y_pred):\n",
    "    return (y_true == y_pred).mean()"
   ]
  },
  {
   "cell_type": "code",
   "execution_count": 4,
   "id": "b868ff85",
   "metadata": {},
   "outputs": [],
   "source": [
    "#Functie care extrage proprozitia corespunzatoare fiecarui id din setul de date\n",
    "\n",
    "def get_sentence(data):\n",
    "    new_data = []\n",
    "    \n",
    "    for item in data:\n",
    "        new_data.append(item[1])\n",
    "    \n",
    "    #Vectorul cu toate propozitiile este convertit intr-un numpy array\n",
    "    return np.array(new_data)"
   ]
  },
  {
   "cell_type": "code",
   "execution_count": 9,
   "id": "b55d21c2",
   "metadata": {},
   "outputs": [],
   "source": [
    "#Functie care extrage etichetele corespunzatoare fiecarui id din setul de date\n",
    "\n",
    "def get_labels(data):\n",
    "    new_data = []\n",
    "    \n",
    "    for item in data:\n",
    "        new_data.append(item[1])\n",
    "        \n",
    "    #Vectorul cu toate etichetele este convertit intr-un numpy array   \n",
    "    return np.array(new_data)"
   ]
  },
  {
   "cell_type": "code",
   "execution_count": 5,
   "id": "04987a38",
   "metadata": {},
   "outputs": [],
   "source": [
    "#Functie care converteste datele vectorizate in DataFrame-uri si adauga ultimele caracteristicii\n",
    "#Parametrii: row: vectorul cu toate propozitiile\n",
    "#vect: Matricea rezultata de vectorizarea datelor\n",
    "#names: Lista caracteristicilor extrase prin vectorizare\n",
    "def final_features(row, vect, names):\n",
    "\n",
    "    #Transformarea datelor vectorizatre intr-o structura DataFrame din libraira pandas\n",
    "    df = pd.DataFrame(data=vect, columns = names)\n",
    "    \n",
    "    #Transformarea propozitiilor intr-o structura DataFrame din libraira pandas\n",
    "    txt = pd.DataFrame(row, columns = ['data'])\n",
    "    \n",
    "    #Lista cu vocalele limbii engleze\n",
    "    vowels=['a','e','i','o','u']\n",
    "    \n",
    "    #Lista cu semnele de punctuatie uzuale\n",
    "    punc = [\"!\", \",\" ,\"\\'\" ,\";\" ,\"\\\"\", \".\", \"-\" ,\"?\"]\n",
    "    \n",
    "    #Functie care calculeaza densitate vocalelelor in propozitii\n",
    "    def vowels_density(txt):\n",
    "        \n",
    "        #Calculeaza numarul total de caractere diferite de \" \"\n",
    "        chars = len(txt.replace(\" \", \"\"))\n",
    "        \n",
    "        #Calculeaza numarul de vocale dintr-o propozitie\n",
    "        nr_vowels = sum([1 for c in txt if c in vowels])\n",
    "        \n",
    "        return(nr_vowels / chars)\n",
    "    \n",
    "    #Functie care calculeaza densitate semnelor de punctuatie in propozitii\n",
    "    def punc_density(txt):\n",
    "        \n",
    "        #Calculeaza numarul total de caractere diferite de \" \"\n",
    "        chars = len(txt.replace(\" \", \"\"))\n",
    "        \n",
    "        #Calculeaza numarul semnelor de punctuatie dintr-o propozitie\n",
    "        nr_punc = sum([1 for c in txt if c in punc])\n",
    "        \n",
    "        return(nr_punc / chars)\n",
    "\n",
    "    def num_unique_words(txt):\n",
    "        \n",
    "        #Se imparte propozitia in cuvinte\n",
    "        words = txt.split()\n",
    "        \n",
    "        #Se aleg cuvintele unice\n",
    "        unique = set(w for w in words)\n",
    "        \n",
    "        #Retruneaza lungimea multimii de cuvinte\n",
    "        return len(unique)\n",
    "    \n",
    "    #Se introduc noile caracteristici in DataFrame\n",
    "    df['punc_density'] = txt['data'].apply(lambda txt: punc_density(txt))\n",
    "    df['vowels_density'] = txt['data'].apply(lambda txt: vowels_density(txt))\n",
    "    df['num_unique_words'] = txt['data'].apply(lambda txt: num_unique_words(txt))\n",
    "    \n",
    "    return df"
   ]
  },
  {
   "cell_type": "code",
   "execution_count": 6,
   "id": "9e009df2",
   "metadata": {},
   "outputs": [],
   "source": [
    "#Functie care determina cel mai bun hyper parametru pentru predictie\n",
    "\n",
    "def best_param(results):\n",
    "    best = (0, 0)\n",
    "    \n",
    "    for data in results:\n",
    "        if data[1] > best[1]:\n",
    "            best = data\n",
    "            \n",
    "    return best"
   ]
  },
  {
   "cell_type": "code",
   "execution_count": 7,
   "id": "71ce7667",
   "metadata": {},
   "outputs": [],
   "source": [
    "#Functie care scrie un fisier . csv cu predictile obtinute\n",
    "#Parametrii: test_data: Datele intiale intr-un numpay array\n",
    "#predicted: lista predictilor\n",
    "\n",
    "def write_prediction(test_data, predicted):\n",
    "    \n",
    "    #Headerul tabelului\n",
    "    header = ['id', 'label']\n",
    "    \n",
    "    #Vector cu datele care vor fii scrise\n",
    "    data = []\n",
    "    \n",
    "    #Parcurgerea datelor initiale\n",
    "    for i in range(0, len(test_data)):\n",
    "        #Extragerea id-ului pentru fiecare propozitie\n",
    "        id = int(test_data[i][0])\n",
    "        #Extragerea etichetei prezise\n",
    "        label = int(predicted[i])\n",
    "        #Adaugarea datelor in vector\n",
    "        data.append([id, label])\n",
    "\n",
    "    #Generarea fiserului .csv\n",
    "    with open('submisie.csv', 'w', encoding='UTF8') as f:\n",
    "        writer = csv.writer(f)\n",
    "        #Scriere header-ului\n",
    "        writer.writerow(header)\n",
    "        \n",
    "        #Scrierea datelor in fisier\n",
    "        for item in data:\n",
    "            writer.writerow(item)"
   ]
  },
  {
   "cell_type": "code",
   "execution_count": 11,
   "id": "f25900d6",
   "metadata": {},
   "outputs": [],
   "source": [
    "#Citirea si prelucarea datelor de antrenare si validare\n",
    "\n",
    "#Citirea datelor de antrenare\n",
    "training_data = np.genfromtxt('data_aliens/train_samples.txt', dtype='str', comments='\\\\\\\\\\\\\\\\\\\\\\\\\\\\\\\\', delimiter='\\t', invalid_raise = False)\n",
    "training_labels = np.loadtxt('data_aliens/train_labels.txt', dtype='int')\n",
    "\n",
    "#Citirea datelor de validare\n",
    "validation_data = np.genfromtxt('data_aliens/validation_samples.txt', dtype='str', comments='\\\\\\\\\\\\\\\\\\\\\\\\\\\\\\\\', delimiter='\\t', invalid_raise = False)\n",
    "validation_labels = np.loadtxt('data_aliens/validation_labels.txt', dtype='int')\n",
    "\n",
    "#Citirea datelor de test\n",
    "test_data_init = np.genfromtxt('data_aliens/test_samples.txt', dtype='str', comments='\\\\\\\\\\\\\\\\\\\\\\\\\\\\\\\\', delimiter='\\t', invalid_raise = False)\n",
    "\n",
    "#Prelucrarea datelor de antrenare\n",
    "#Extragerea propozitiilor\n",
    "x_train = get_sentence(training_data)\n",
    "\n",
    "#Extragerea etichetelor\n",
    "y_train = get_labels(training_labels)\n",
    "\n",
    "#Prelucrarea datelor de validare\n",
    "#Extragerea propozitiilor\n",
    "x_valid = get_sentence(validation_data)\n",
    "\n",
    "#Extragerea etichetelor\n",
    "y_valid = get_labels(validation_labels)\n",
    "\n",
    "#Prelucrarea datelor de test\n",
    "#Extragerea propozitiilor\n",
    "x_test = get_sentence(test_data_init)"
   ]
  },
  {
   "cell_type": "code",
   "execution_count": 12,
   "id": "e637469c",
   "metadata": {},
   "outputs": [],
   "source": [
    "#Vectorizarea datelor\n",
    "\n",
    "#Initializarea CountVectorizer-ului cu numar maxim de carcteristici = 3000\n",
    "count_vect = CountVectorizer(lowercase = False, max_features=3000, strip_accents=None, min_df=1, stop_words=None)\n",
    "\n",
    "#Generarea vocabularului si extragerea carcteristicilor din datele de antrenare\n",
    "X_train_counts = count_vect.fit_transform(x_train)\n",
    "\n",
    "#Extragerea denumirilor caracteristicilor\n",
    "names = count_vect.get_feature_names_out()\n",
    "\n",
    "#Extragerea carcteristicilor din datele de validare\n",
    "X_valid_counts = count_vect.transform(x_valid)\n",
    "\n",
    "#Transformarea datelor vectorizatre in numpay array\n",
    "train_data = X_train_counts.toarray()\n",
    "valid_data = X_valid_counts.toarray()"
   ]
  },
  {
   "cell_type": "code",
   "execution_count": 13,
   "id": "b165fd84",
   "metadata": {},
   "outputs": [],
   "source": [
    "#Transformarea in DataFrame\n",
    "\n",
    "#Data frame cu toate caracteristicile pentru datele de antrenare\n",
    "train_df = final_features(x_train, train_data, names)\n",
    "\n",
    "#Data frame cu toate caracteristicile pentru datele de validare\n",
    "valid_df = final_features(x_valid, valid_data, names)"
   ]
  },
  {
   "cell_type": "code",
   "execution_count": 14,
   "id": "121c6afd",
   "metadata": {},
   "outputs": [
    {
     "name": "stdout",
     "output_type": "stream",
     "text": [
      "No scaling was performed. Raw data is returned.\n"
     ]
    }
   ],
   "source": [
    "#Normalizarea datelor (daca este cazul)\n",
    "\n",
    "scale_train, scale_validation = normalize_data(train_df, valid_df)"
   ]
  },
  {
   "cell_type": "code",
   "execution_count": 16,
   "id": "b866a5d7",
   "metadata": {},
   "outputs": [
    {
     "name": "stdout",
     "output_type": "stream",
     "text": [
      "[[1312  430  258]\n",
      " [ 529  793  178]\n",
      " [ 391  226  883]]\n",
      "[[1313  422  265]\n",
      " [ 561  757  182]\n",
      " [ 395  222  883]]\n",
      "[[1303  428  269]\n",
      " [ 567  758  175]\n",
      " [ 381  231  888]]\n",
      "[[1299  428  273]\n",
      " [ 559  768  173]\n",
      " [ 388  224  888]]\n",
      "[[1293  433  274]\n",
      " [ 569  758  173]\n",
      " [ 392  222  886]]\n",
      "[[1285  439  276]\n",
      " [ 566  759  175]\n",
      " [ 392  222  886]]\n",
      "[(1, 0.5976), (3, 0.5906), (5, 0.5898), (7, 0.591), (10, 0.5874), (15, 0.586)]\n"
     ]
    }
   ],
   "source": [
    "#Antrenarea modelului cu diferiti hyper parametrii\n",
    "\n",
    "#Parametrii SVM\n",
    "param = [1, 3, 5, 7, 10, 15]\n",
    "\n",
    "results = []\n",
    "\n",
    "for c in param:\n",
    "    svm_classifier = svm.SVC(C=c, kernel='linear')\n",
    "    \n",
    "    svm_classifier.fit(scale_train, y_train)\n",
    "    \n",
    "    predicted = svm_classifier.predict(scale_validation)\n",
    "    \n",
    "    print(confusion_matrix(y_valid, predicted, labels=[1, 2, 3]))\n",
    "    \n",
    "    results.append((c, accuracy_score(predicted, y_valid)))\n",
    "    \n",
    "print(results)\n",
    "\n",
    "best = best_param(results)"
   ]
  },
  {
   "cell_type": "code",
   "execution_count": 17,
   "id": "bdabc717",
   "metadata": {},
   "outputs": [
    {
     "name": "stdout",
     "output_type": "stream",
     "text": [
      "(1, 0.5976)\n"
     ]
    }
   ],
   "source": [
    "print(best)"
   ]
  },
  {
   "cell_type": "code",
   "execution_count": 18,
   "id": "093c0ebd",
   "metadata": {},
   "outputs": [
    {
     "name": "stdout",
     "output_type": "stream",
     "text": [
      "No scaling was performed. Raw data is returned.\n"
     ]
    }
   ],
   "source": [
    "#Extragerea caracteristicilor din datele de testare\n",
    "X_test_counts = count_vect.transform(x_test)\n",
    "\n",
    "#Transformarea datelor vectorizatre in numpay array\n",
    "test_data = X_test_counts.toarray()\n",
    "\n",
    "#Data frame cu toate caracteristicile pentru datele de testare\n",
    "test_df = final_features(x_test, test_data, names)\n",
    "\n",
    "#Normalizarea datelor (daca este cazul)\n",
    "scale_test, scale_test = normalize_data(test_df, test_df)"
   ]
  },
  {
   "cell_type": "code",
   "execution_count": 21,
   "id": "705003aa",
   "metadata": {},
   "outputs": [
    {
     "name": "stdout",
     "output_type": "stream",
     "text": [
      "0.5976\n",
      "[[1312  430  258]\n",
      " [ 529  793  178]\n",
      " [ 391  226  883]]\n"
     ]
    }
   ],
   "source": [
    "svm_classifier = svm.SVC(C=best[0], kernel='linear')\n",
    "    \n",
    "svm_classifier.fit(scale_train, y_train)\n",
    "\n",
    "predicted = svm_classifier.predict(scale_validation)\n",
    "\n",
    "print(accuracy_score(predicted, y_valid))\n",
    "\n",
    "print(confusion_matrix(y_valid, predicted, labels=[1, 2, 3]))"
   ]
  },
  {
   "cell_type": "code",
   "execution_count": 23,
   "id": "b71adad5",
   "metadata": {},
   "outputs": [],
   "source": [
    "#Generarea predictilor pentru datele de test\n",
    "\n",
    "predicted = svm_classifier.predict(scale_test)"
   ]
  },
  {
   "cell_type": "code",
   "execution_count": 24,
   "id": "beb17236",
   "metadata": {},
   "outputs": [
    {
     "name": "stdout",
     "output_type": "stream",
     "text": [
      "(5000,)\n"
     ]
    }
   ],
   "source": [
    "#Scrierea fisierului .csv cu predictile obtinute\n",
    "\n",
    "write_prediction(test_data_init, predicted)\n",
    "print(predicted.shape)"
   ]
  }
 ],
 "metadata": {
  "kernelspec": {
   "display_name": "Python 3 (ipykernel)",
   "language": "python",
   "name": "python3"
  },
  "language_info": {
   "codemirror_mode": {
    "name": "ipython",
    "version": 3
   },
   "file_extension": ".py",
   "mimetype": "text/x-python",
   "name": "python",
   "nbconvert_exporter": "python",
   "pygments_lexer": "ipython3",
   "version": "3.8.10"
  }
 },
 "nbformat": 4,
 "nbformat_minor": 5
}
